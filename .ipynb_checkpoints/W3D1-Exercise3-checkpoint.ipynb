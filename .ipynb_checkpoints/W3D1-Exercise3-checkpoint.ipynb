{
 "cells": [
  {
   "cell_type": "markdown",
   "metadata": {},
   "source": [
    "# Exercise 3: Functions and Data\n",
    "\n",
    "Builds on exercises provided by programminghistorian.org. \n",
    "\n",
    "## 3.1 Functions\n"
   ]
  },
  {
   "cell_type": "markdown",
   "metadata": {},
   "source": [
    "**Question 3.1.1**: Write a function `is_number` that uses the `try` and `except` structure to return `True` of the input is a number, or print a relevant error statement and returns `None` if the input is not a number. Test your function on several cases. "
   ]
  },
  {
   "cell_type": "code",
   "execution_count": 89,
   "metadata": {},
   "outputs": [],
   "source": [
    "#Answer to question 3.1.1\n",
    "\n",
    "def is_number(number):\n",
    "    try:                   \n",
    "        float(number) #tries something, we know will produce a value error\n",
    "    except ValueError: \n",
    "        print(\"This is not a number\") #defines our own value error\n",
    "        return None\n",
    "    else:\n",
    "        return True\n",
    "       "
   ]
  },
  {
   "cell_type": "code",
   "execution_count": 90,
   "metadata": {},
   "outputs": [
    {
     "name": "stdout",
     "output_type": "stream",
     "text": [
      "This is not a number\n"
     ]
    }
   ],
   "source": [
    "is_number(\"my string\")"
   ]
  },
  {
   "cell_type": "code",
   "execution_count": 91,
   "metadata": {},
   "outputs": [
    {
     "data": {
      "text/plain": [
       "True"
      ]
     },
     "execution_count": 91,
     "metadata": {},
     "output_type": "execute_result"
    }
   ],
   "source": [
    "is_number(3)"
   ]
  },
  {
   "cell_type": "markdown",
   "metadata": {},
   "source": [
    "**Question 3.1.2**: Write some test cases for your function. Did you have to change your function based on your test cases? If so, explain. "
   ]
  },
  {
   "cell_type": "code",
   "execution_count": 92,
   "metadata": {},
   "outputs": [],
   "source": [
    "#Answer to question 3.1.2\n",
    "# No"
   ]
  },
  {
   "cell_type": "markdown",
   "metadata": {},
   "source": [
    "**Question 3.1.3**: Write a function `word_freq` that takes in a list of words and counts the frequency of each word in the list. Your function should return a dictionary with the word as the key and the count as the value. \n",
    "\n",
    "Hint: Useful string methods to look at is `count()`."
   ]
  },
  {
   "cell_type": "code",
   "execution_count": 93,
   "metadata": {},
   "outputs": [],
   "source": [
    "#Answer to question 3.1.3\n",
    "   # For each word, we want to:\n",
    "     # Check if the word has allready been there\n",
    "        # If this is False - add word to my_dict with the value 1\n",
    "        # If this is True - add one to the value attached to the word in the dictionary\n",
    "\n",
    "def word_freq(word_list):\n",
    "    my_dict = {}\n",
    "    for word in word_list:\n",
    "        if word in my_dict:\n",
    "            my_dict[word] += 1\n",
    "        else:\n",
    "            my_dict[word] = 1\n",
    "    return(my_dict)"
   ]
  },
  {
   "cell_type": "code",
   "execution_count": 94,
   "metadata": {},
   "outputs": [
    {
     "name": "stdout",
     "output_type": "stream",
     "text": [
      "['Karen', 'Louise', 'Henning', 'Karen', 'Mig', 'mig']\n"
     ]
    }
   ],
   "source": [
    "list_1=[\"Karen\", \"Louise\", \"Henning\", \"Karen\", \"Mig\", \"mig\"]\n",
    "print(list_1)"
   ]
  },
  {
   "cell_type": "code",
   "execution_count": 95,
   "metadata": {},
   "outputs": [
    {
     "data": {
      "text/plain": [
       "{'Karen': 2, 'Louise': 1, 'Henning': 1, 'Mig': 1, 'mig': 1}"
      ]
     },
     "execution_count": 95,
     "metadata": {},
     "output_type": "execute_result"
    }
   ],
   "source": [
    "word_freq(list_1)"
   ]
  },
  {
   "cell_type": "markdown",
   "metadata": {},
   "source": [
    "**Question 3.1.4**: Write a function  `sort_freq_dict` that takes a dictionary of key value pairs that are words and their frequencies. The function should turn the dictionary into a list of (freq, word) tuples, sorted highest to lowest by frequency. The function should return this list. \n",
    "\n",
    "Hint: list methods `sort()` and `reverse()` will be useful. "
   ]
  },
  {
   "cell_type": "code",
   "execution_count": 96,
   "metadata": {},
   "outputs": [],
   "source": [
    "#Answer to question 3.1.4\n",
    "#I use Iteration\n",
    "# Define the function\n",
    "    # Create an empty list to put the dictionary entrys (converted into tuples) into\n",
    "    # For each item in the dictionary,\n",
    "        # make a tuple\n",
    "        # add the tupple to our list\n",
    "    # sort the list by the second position of the tuples\n",
    "\n",
    "\n",
    "def sort_freq_dict(dict):\n",
    "    list_of_tuples = []\n",
    "    for item in dict:\n",
    "        tuples = (item, dict[item])\n",
    "        list_of_tuples.append(tuples)\n",
    "    #nøjlen til at sortere listen lægger på 2. position, hvor x er entrys i listen\n",
    "    sorted(list_of_tuples, key=lambda x: x[1]) #lambda betyder at vi laver et minprogram inde i kode\n",
    "    return list_of_tuples"
   ]
  },
  {
   "cell_type": "code",
   "execution_count": 97,
   "metadata": {},
   "outputs": [
    {
     "data": {
      "text/plain": [
       "[('hello', 2),\n",
       " ('my', 2),\n",
       " ('friend', 2),\n",
       " ('prime', 2),\n",
       " ('everyday', 2),\n",
       " ('past', 1),\n",
       " ('just', 3),\n",
       " ('denmark', 3),\n",
       " ('jobs', 1),\n",
       " ('trust', 2),\n",
       " ('history', 1),\n",
       " ('freedoms', 1),\n",
       " ('running', 1),\n",
       " ('centralization', 1),\n",
       " ('apparently', 1),\n",
       " ('large', 1),\n",
       " ('instead', 2),\n",
       " ('greater', 1),\n",
       " ('today', 6),\n",
       " ('shouldn', 1),\n",
       " ('midwives', 1),\n",
       " ('let', 3),\n",
       " ('step', 1),\n",
       " ('year', 1),\n",
       " ('new', 2),\n",
       " ('welfare', 1),\n",
       " ('employees', 1),\n",
       " ('luckily', 1),\n",
       " ('legislation', 1),\n",
       " ('time', 1),\n",
       " ('tomorrow', 1),\n",
       " ('immigration', 2),\n",
       " ('failed', 1),\n",
       " ('crimes', 1),\n",
       " ('crime', 1),\n",
       " ('thousands', 1),\n",
       " ('strengthen', 1),\n",
       " ('built', 1),\n",
       " ('tax', 1),\n",
       " ('europe', 1),\n",
       " ('traffickers', 1),\n",
       " ('greenland', 1),\n",
       " ('vulnerable', 1),\n",
       " ('children', 1),\n",
       " ('committing', 1),\n",
       " ('retirement', 1),\n",
       " ('alternativet', 1),\n",
       " ('caregiving', 1),\n",
       " ('enthusiasm', 1),\n",
       " ('long', 1)]"
      ]
     },
     "execution_count": 97,
     "metadata": {},
     "output_type": "execute_result"
    }
   ],
   "source": [
    "sort_freq_dict(word_dict)"
   ]
  },
  {
   "cell_type": "markdown",
   "metadata": {},
   "source": [
    "**Question 3.1.5**: Write a function called `remove_stop_words` that takes two lists of words as input (a word list and a stop word list). Your function should return a list of words with all the words in the word list except those found in the stop word list. \n",
    "\n",
    "Note: A stop word list is a list of common words (e.g. the, a, and, etc.)"
   ]
  },
  {
   "cell_type": "code",
   "execution_count": 98,
   "metadata": {},
   "outputs": [],
   "source": [
    "#Answer to question 3.1.5\n",
    "\n",
    "#  new_word_list = []\n",
    "#new_word_list = []\n",
    "\n",
    "def remove_stop_words(word_list, stop_word_list):\n",
    "    for word in word_list:\n",
    "        if word not in stop_word_list:\n",
    "            new_word_list.append(word)\n",
    "    return new_word_list"
   ]
  },
  {
   "cell_type": "code",
   "execution_count": 99,
   "metadata": {},
   "outputs": [
    {
     "name": "stdout",
     "output_type": "stream",
     "text": [
      "['hello', 'my', 'friend', 'prime', 'hello', 'my', 'friend', 'prime', 'everyday', 'past', 'just', 'denmark', 'jobs', 'trust', 'denmark', 'history', 'freedoms', 'running', 'centralization', 'apparently', 'large', 'denmark', 'instead', 'greater', 'today', 'today', 'shouldn', 'midwives', 'today', 'let', 'everyday', 'step', 'year', 'new', 'welfare', 'let', 'new', 'today', 'employees', 'luckily', 'just', 'legislation', 'instead', 'today', 'trust', 'time', 'tomorrow', 'immigration', 'failed', 'crimes', 'crime', 'immigration', 'thousands', 'strengthen', 'built', 'tax', 'europe', 'traffickers', 'greenland', 'vulnerable', 'children', 'committing', 'retirement', 'alternativet', 'today', 'just', 'let', 'caregiving', 'enthusiasm', 'long', 'hello', 'my', 'friend']\n"
     ]
    }
   ],
   "source": [
    "word_list = [\"hello\", \"my\", \"friend\", \"etc.\"]\n",
    "stop_word_list = [\"e.g\", \"the\", \"a\", \"etc.\"]\n",
    "remove_stop_words(word_list, stop_word_list) # how do I get it to print it????????\n",
    "print(new_word_list)"
   ]
  },
  {
   "cell_type": "markdown",
   "metadata": {},
   "source": [
    "## 2.2 Text Files\n",
    "\n",
    "**Question 2.2.1**: Read in the text files `stop_words.txt` and turn it into a list of words. \n",
    "\n",
    "Note: when you look at the file you see that each word is on a different line. Remember to remove the newline characters for each line/word.\n",
    "\n",
    "Stopwords from: http://ir.dcs.gla.ac.uk/resources/linguistic_utils/stop_words"
   ]
  },
  {
   "cell_type": "code",
   "execution_count": 100,
   "metadata": {},
   "outputs": [
    {
     "data": {
      "text/plain": [
       "<function TextIOWrapper.close()>"
      ]
     },
     "execution_count": 100,
     "metadata": {},
     "output_type": "execute_result"
    }
   ],
   "source": [
    "#Answer to question 2.2.1\n",
    "\n",
    "# Open file\n",
    "f = open('stop_words.txt', 'r')\n",
    "\n",
    "# Make a string variable out of the list\n",
    "stop_words_string = f.read()\n",
    "\n",
    "# Split string into individual words in a list\n",
    "stop_word_list = stop_words_string.split()\n",
    "\n",
    "# Remove \\n from entries\n",
    "stop_words = []\n",
    "for entry in stop_word_list:\n",
    "    stop_words.append(entry.replace('\\n',''))\n",
    "\n",
    "f.close\n"
   ]
  },
  {
   "cell_type": "markdown",
   "metadata": {},
   "source": [
    "**Question 2.2.2**: Write a function `make_wordlist` that takes a filename as the argument. The function reads the file, turning the text to lower case and removes all non alpha-numeric characters. The function returns a list of all the words.  \n",
    "\n",
    "Hint: You will need to use a regular expression for only alphanumeric characters. Use `search(pattern, text)` and `group()` methods following the example in class.  \n"
   ]
  },
  {
   "cell_type": "code",
   "execution_count": 101,
   "metadata": {},
   "outputs": [],
   "source": [
    "#Answer to Question 2.2.2\n",
    "import re\n",
    "\n",
    "\n",
    "def make_wordlist(file_name):\n",
    "    f = open(file_name, 'r', errors = 'ignore')\n",
    "    wordlist = []\n",
    "    for item in f: # automatically becomes a new item after \\n\n",
    "        item_lower = item.lower()\n",
    "        g = re.search('\\w+',item_lower)\n",
    "        if g != None:\n",
    "            wordlist.append(g.group())\n",
    "        else:\n",
    "            None\n",
    "    return wordlist\n",
    "    f.close()\n",
    "    "
   ]
  },
  {
   "cell_type": "code",
   "execution_count": 102,
   "metadata": {},
   "outputs": [
    {
     "name": "stdout",
     "output_type": "stream",
     "text": [
      "['a', 'about', 'above', 'across', 'after', 'afterwards', 'again', 'against', 'all', 'almost', 'alone', 'along', 'already', 'also', 'although', 'always', 'am', 'among', 'amongst', 'amoungst', 'amount', 'an', 'and', 'another', 'any', 'anyhow', 'anyone', 'anything', 'anyway', 'anywhere', 'are', 'around', 'as', 'at', 'back', 'be', 'became', 'because', 'become', 'becomes', 'becoming', 'been', 'before', 'beforehand', 'behind', 'being', 'below', 'beside', 'besides', 'between', 'beyond', 'bill', 'both', 'bottom', 'but', 'by', 'call', 'can', 'cannot', 'cant', 'co', 'computer', 'con', 'could', 'couldnt', 'cry', 'de', 'describe', 'detail', 'do', 'done', 'down', 'due', 'during', 'each', 'eg', 'eight', 'either', 'eleven', 'else', 'elsewhere', 'empty', 'enough', 'etc', 'even', 'ever', 'every', 'everyone', 'everything', 'everywhere', 'except', 'few', 'fifteen', 'fify', 'fill', 'find', 'fire', 'first', 'five', 'for', 'former', 'formerly', 'forty', 'found', 'four', 'from', 'front', 'full', 'further', 'get', 'give', 'go', 'had', 'has', 'hasnt', 'have', 'he', 'hence', 'her', 'here', 'hereafter', 'hereby', 'herein', 'hereupon', 'hers', 'herself', 'him', 'himself', 'his', 'how', 'however', 'hundred', 'i', 'ie', 'if', 'in', 'inc', 'indeed', 'interest', 'into', 'is', 'it', 'its', 'itself', 'keep', 'last', 'latter', 'latterly', 'least', 'less', 'ltd', 'made', 'many', 'may', 'me', 'meanwhile', 'might', 'mill', 'mine', 'more', 'moreover', 'most', 'mostly', 'move', 'much', 'must', 'my', 'myself', 'name', 'namely', 'neither', 'never', 'nevertheless', 'next', 'nine', 'no', 'nobody', 'none', 'noone', 'nor', 'not', 'nothing', 'now', 'nowhere', 'of', 'off', 'often', 'on', 'once', 'one', 'only', 'onto', 'or', 'other', 'others', 'otherwise', 'our', 'ours', 'ourselves', 'out', 'over', 'own', 'part', 'per', 'perhaps', 'please', 'put', 'rather', 're', 'same', 'see', 'seem', 'seemed', 'seeming', 'seems', 'serious', 'several', 'she', 'should', 'show', 'side', 'since', 'sincere', 'six', 'sixty', 'so', 'some', 'somehow', 'someone', 'something', 'sometime', 'sometimes', 'somewhere', 'still', 'such', 'system', 'take', 'ten', 'than', 'that', 'the', 'their', 'them', 'themselves', 'then', 'thence', 'there', 'thereafter', 'thereby', 'therefore', 'therein', 'thereupon', 'these', 'they', 'thick', 'thin', 'third', 'this', 'those', 'though', 'three', 'through', 'throughout', 'thru', 'thus', 'to', 'together', 'too', 'top', 'toward', 'towards', 'twelve', 'twenty', 'two', 'un', 'under', 'until', 'up', 'upon', 'us', 'very', 'via', 'was', 'we', 'well', 'were', 'what', 'whatever', 'when', 'whence', 'whenever', 'where', 'whereafter', 'whereas', 'whereby', 'wherein', 'whereupon', 'wherever', 'whether', 'which', 'while', 'whither', 'who', 'whoever', 'whole', 'whom', 'whose', 'why', 'will', 'with', 'within', 'without', 'would', 'yet', 'you', 'your', 'yours', 'yourself', 'yourselves']\n"
     ]
    }
   ],
   "source": [
    "print(make_wordlist('stop_words.txt'))"
   ]
  },
  {
   "cell_type": "markdown",
   "metadata": {},
   "source": [
    "**Question 2.2.3**: Putting the above together allows you to read a file, clean up the words to remove unwanted characters, and count the frequency of words in the text from the file. This results in a sorted list of words. \n",
    "\n",
    "Run the code below to count the frequency of words in `Speech_2019.txt`. This is the speech given by DK Prime Minister Mette Frederiksen at the opening of parliament. Original found [here](http://www.stm.dk/_p_14878.html).\n",
    "\n",
    "Write the resulting list of words frequencies to a new text file with an appropriate name. Have a look at the file, does it seem like all your functions are working as they should? \n",
    "\n",
    "Note: it is ok if you have words that are single letters or numbers. We'll work on improving our data cleaning techniques in later classes. "
   ]
  },
  {
   "cell_type": "code",
   "execution_count": 103,
   "metadata": {},
   "outputs": [],
   "source": [
    "f = open('Speech_2019.txt','r', errors = 'ignore') "
   ]
  },
  {
   "cell_type": "code",
   "execution_count": 104,
   "metadata": {},
   "outputs": [],
   "source": [
    "#Read the file and turn it into a list of words\n",
    "word_list = make_wordlist('Speech_2019.txt')\n",
    "#remove stop words from the list\n",
    "word_list = remove_stop_words(word_list, stop_words)\n",
    "#count the frequency of different words\n",
    "word_dict = word_freq(word_list)\n",
    "#sort the list\n",
    "sorted_words = sort_freq_dict(word_dict)\n",
    "\n"
   ]
  },
  {
   "cell_type": "code",
   "execution_count": 105,
   "metadata": {},
   "outputs": [],
   "source": [
    "#Answer to question 2.2.3\n",
    "# Add list to document\n",
    "f = open('Speech_2019.txt','w', errors = 'ignore') #allways use as part of function + here when using read in files\n",
    "\n",
    "for item in sorted_words:\n",
    "    f.write(str(item))\n",
    "f.close()"
   ]
  },
  {
   "cell_type": "markdown",
   "metadata": {},
   "source": [
    "## 2.3 (More) Regular Expressions"
   ]
  },
  {
   "cell_type": "markdown",
   "metadata": {},
   "source": [
    "**Question 2.3.1**: Write a regular expression for a telephone number."
   ]
  },
  {
   "cell_type": "markdown",
   "metadata": {},
   "source": [
    "*Answer to Question 2.3.1*\n",
    "Note this cell is in markdown mode.\n",
    "\n",
    "'[ ,(\\d){8}]'\n",
    "test på denne hjemmeside https://pythex.org/\n"
   ]
  },
  {
   "cell_type": "markdown",
   "metadata": {},
   "source": [
    "**Question 2.3.2**: Write a regular expression for a URL. \n",
    "\n",
    "Note: For this exercise you can use a simple solution that does not account for all possible conditions, but will capture most URLs."
   ]
  },
  {
   "cell_type": "markdown",
   "metadata": {},
   "source": [
    "*Answer to Question 2.3.2* \n",
    "\n",
    "Note this cell is in markdown mode.\n",
    "\n",
    "((www.)|(http(s){0,1}://))\\w+[\\.,\\w,/]*"
   ]
  },
  {
   "cell_type": "markdown",
   "metadata": {},
   "source": [
    "## 2.4 Reflection\n",
    "**Question 2.4.1**: Write a brief paragraph reflecting on your experience learning programming today. What did you struggle with? What did you enjoy? What surprised you?"
   ]
  },
  {
   "cell_type": "code",
   "execution_count": null,
   "metadata": {},
   "outputs": [],
   "source": [
    "#Answer to question 2.4.1"
   ]
  }
 ],
 "metadata": {
  "kernelspec": {
   "display_name": "Python 3",
   "language": "python",
   "name": "python3"
  },
  "language_info": {
   "codemirror_mode": {
    "name": "ipython",
    "version": 3
   },
   "file_extension": ".py",
   "mimetype": "text/x-python",
   "name": "python",
   "nbconvert_exporter": "python",
   "pygments_lexer": "ipython3",
   "version": "3.7.4"
  }
 },
 "nbformat": 4,
 "nbformat_minor": 2
}
